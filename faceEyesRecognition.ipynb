{
  "nbformat": 4,
  "nbformat_minor": 0,
  "metadata": {
    "colab": {
      "provenance": []
    },
    "kernelspec": {
      "name": "python3",
      "display_name": "Python 3"
    },
    "language_info": {
      "name": "python"
    }
  },
  "cells": [
    {
      "cell_type": "code",
      "execution_count": null,
      "metadata": {
        "id": "KlxVBk8VI-rS"
      },
      "outputs": [],
      "source": [
        "import cv2\n",
        "\n",
        "def detect_and_crop_eyes(image_path):\n",
        "    # 이미지 읽기\n",
        "    image = cv2.imread(image_path)\n",
        "\n",
        "    # 얼굴 검출을 위한 Cascade Classifier 로딩\n",
        "    face_cascade = cv2.CascadeClassifier(cv2.data.haarcascades + 'haarcascade_frontalface_default.xml')\n",
        "\n",
        "    # 그레이 스케일로 변환\n",
        "    gray = cv2.cvtColor(image, cv2.COLOR_BGR2GRAY)\n",
        "\n",
        "    # 얼굴 검출\n",
        "    faces = face_cascade.detectMultiScale(gray, scaleFactor=1.3, minNeighbors=5)\n",
        "\n",
        "    # 각 얼굴에 대해 눈을 검출하고 잘라내기\n",
        "    for (x, y, w, h) in faces:\n",
        "        roi_gray = gray[y:y + h, x:x + w]\n",
        "        eyes = cv2.HoughCircles(roi_gray, cv2.HOUGH_GRADIENT, dp=1, minDist=20, param1=50, param2=30, minRadius=15, maxRadius=30)\n",
        "\n",
        "        if eyes is not None:\n",
        "            for eye in eyes[0, :]:\n",
        "                # 눈의 중심 좌표와 반지름\n",
        "                center = (int(eye[0]), int(eye[1]))\n",
        "                radius = int(eye[2])\n",
        "\n",
        "                # 눈의 영역을 잘라내기\n",
        "                eye_image = image[y + int(eye[1] - radius):y + int(eye[1] + radius),\n",
        "                                  x + int(eye[0] - radius):x + int(eye[0] + radius)]\n",
        "\n",
        "                # 잘라낸 눈 이미지를 파일로 저장\n",
        "                cv2.imwrite(f'/content/drive/MyDrive/dont-sleep-main/eye.png', eye_image)\n",
        "\n",
        "# 함수 호출\n",
        "detect_and_crop_eyes('/content/drive/MyDrive/dont-sleep-main/awake.png')"
      ]
    }
  ]
}