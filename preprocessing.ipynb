{
  "cells": [
    {
      "cell_type": "code",
      "execution_count": 1,
      "metadata": {
        "colab": {
          "base_uri": "https://localhost:8080/",
          "height": 381
        },
        "id": "purDLBuOT43h",
        "outputId": "1b9cd26d-3a5f-44ce-f9c2-01472bec8e99"
      },
      "outputs": [
        {
          "name": "stdout",
          "output_type": "stream",
          "text": [
            "WARNING:tensorflow:From C:\\Users\\이소정\\AppData\\Roaming\\Python\\Python39\\site-packages\\keras\\src\\losses.py:2976: The name tf.losses.sparse_softmax_cross_entropy is deprecated. Please use tf.compat.v1.losses.sparse_softmax_cross_entropy instead.\n",
            "\n",
            "Found 3400 images belonging to 2 classes.\n",
            "Found 600 images belonging to 2 classes.\n",
            "WARNING:tensorflow:From C:\\Users\\이소정\\AppData\\Roaming\\Python\\Python39\\site-packages\\keras\\src\\backend.py:873: The name tf.get_default_graph is deprecated. Please use tf.compat.v1.get_default_graph instead.\n",
            "\n",
            "WARNING:tensorflow:From C:\\Users\\이소정\\AppData\\Roaming\\Python\\Python39\\site-packages\\keras\\src\\layers\\pooling\\max_pooling2d.py:161: The name tf.nn.max_pool is deprecated. Please use tf.nn.max_pool2d instead.\n",
            "\n",
            "Model: \"sequential\"\n",
            "_________________________________________________________________\n",
            " Layer (type)                Output Shape              Param #   \n",
            "=================================================================\n",
            " conv2d (Conv2D)             (None, 64, 64, 32)        320       \n",
            "                                                                 \n",
            " max_pooling2d (MaxPooling2  (None, 32, 32, 32)        0         \n",
            " D)                                                              \n",
            "                                                                 \n",
            " conv2d_1 (Conv2D)           (None, 32, 32, 64)        18496     \n",
            "                                                                 \n",
            " max_pooling2d_1 (MaxPoolin  (None, 16, 16, 64)        0         \n",
            " g2D)                                                            \n",
            "                                                                 \n",
            " conv2d_2 (Conv2D)           (None, 16, 16, 128)       73856     \n",
            "                                                                 \n",
            " max_pooling2d_2 (MaxPoolin  (None, 8, 8, 128)         0         \n",
            " g2D)                                                            \n",
            "                                                                 \n",
            " flatten (Flatten)           (None, 8192)              0         \n",
            "                                                                 \n",
            " dense (Dense)               (None, 64)                524352    \n",
            "                                                                 \n",
            " dense_1 (Dense)             (None, 2)                 130       \n",
            "                                                                 \n",
            "=================================================================\n",
            "Total params: 617154 (2.35 MB)\n",
            "Trainable params: 617154 (2.35 MB)\n",
            "Non-trainable params: 0 (0.00 Byte)\n",
            "_________________________________________________________________\n",
            "None\n",
            "WARNING:tensorflow:From C:\\Users\\이소정\\AppData\\Roaming\\Python\\Python39\\site-packages\\keras\\src\\optimizers\\__init__.py:309: The name tf.train.Optimizer is deprecated. Please use tf.compat.v1.train.Optimizer instead.\n",
            "\n"
          ]
        },
        {
          "name": "stderr",
          "output_type": "stream",
          "text": [
            "C:\\Users\\이소정\\AppData\\Local\\Temp\\ipykernel_556\\360112266.py:84: UserWarning: `Model.fit_generator` is deprecated and will be removed in a future version. Please use `Model.fit`, which supports generators.\n",
            "  history = model.fit_generator(train_set, epochs=num_epochs, steps_per_epoch=training_steps,validation_data=test_set,\n"
          ]
        },
        {
          "name": "stdout",
          "output_type": "stream",
          "text": [
            "Epoch 1/20\n",
            "WARNING:tensorflow:From C:\\Users\\이소정\\AppData\\Roaming\\Python\\Python39\\site-packages\\keras\\src\\utils\\tf_utils.py:492: The name tf.ragged.RaggedTensorValue is deprecated. Please use tf.compat.v1.ragged.RaggedTensorValue instead.\n",
            "\n",
            "WARNING:tensorflow:From C:\\Users\\이소정\\AppData\\Roaming\\Python\\Python39\\site-packages\\keras\\src\\engine\\base_layer_utils.py:384: The name tf.executing_eagerly_outside_functions is deprecated. Please use tf.compat.v1.executing_eagerly_outside_functions instead.\n",
            "\n",
            "106/106 [==============================] - ETA: 0s - loss: 0.2653 - accuracy: 0.8806\n",
            "Epoch 1: val_accuracy improved from -inf to 0.99479, saving model to yawn_detection.h5\n",
            "106/106 [==============================] - 25s 210ms/step - loss: 0.2653 - accuracy: 0.8806 - val_loss: 0.0101 - val_accuracy: 0.9948\n",
            "Epoch 2/20\n"
          ]
        },
        {
          "name": "stderr",
          "output_type": "stream",
          "text": [
            "C:\\Users\\이소정\\AppData\\Roaming\\Python\\Python39\\site-packages\\keras\\src\\engine\\training.py:3103: UserWarning: You are saving your model as an HDF5 file via `model.save()`. This file format is considered legacy. We recommend using instead the native Keras format, e.g. `model.save('my_model.keras')`.\n",
            "  saving_api.save_model(\n"
          ]
        },
        {
          "name": "stdout",
          "output_type": "stream",
          "text": [
            "106/106 [==============================] - ETA: 0s - loss: 0.0749 - accuracy: 0.9757\n",
            "Epoch 2: val_accuracy improved from 0.99479 to 1.00000, saving model to yawn_detection.h5\n",
            "106/106 [==============================] - 17s 163ms/step - loss: 0.0749 - accuracy: 0.9757 - val_loss: 0.0035 - val_accuracy: 1.0000\n",
            "Epoch 3/20\n",
            " 63/106 [================>.............] - ETA: 7s - loss: 0.0323 - accuracy: 0.9890"
          ]
        }
      ],
      "source": [
        "import keras\n",
        "from keras.models import Sequential\n",
        "from keras.callbacks import ModelCheckpoint\n",
        "from keras.layers import Conv2D, MaxPooling2D, Dense, Flatten, Dropout\n",
        "from keras.preprocessing.image import ImageDataGenerator\n",
        "import matplotlib.pyplot as plt\n",
        "plt.style.use('dark_background')\n",
        "\n",
        "import os\n",
        "def plot_imgs(directory, top=10):\n",
        "    all_item_dirs = os.listdir(directory)\n",
        "    item_files = [os.path.join(directory, file) for file in all_item_dirs][:5]\n",
        "\n",
        "    plt.figure(figsize=(20, 20))\n",
        "\n",
        "    for i, img_path in enumerate(item_files):\n",
        "        plt.subplot(10, 10, i+1)\n",
        "\n",
        "        img = plt.imread(img_path)\n",
        "        plt.tight_layout()\n",
        "        plt.imshow(img, cmap='gray')\n",
        "\n",
        "data_path = './eyes/dataset/train'\n",
        "\n",
        "directories = ['/Closed_Eyes', '/Open_Eyes']\n",
        "\n",
        "for j in directories:\n",
        "    plot_imgs(data_path+j)\n",
        "\n",
        "batch_size = 32\n",
        "train_datagen = ImageDataGenerator(horizontal_flip = True,\n",
        "                                  rescale = 1./255,\n",
        "                                  zoom_range = 0.2,\n",
        "                                  validation_split = 0.1)\n",
        "\n",
        "test_datagen = ImageDataGenerator(rescale = 1./255)\n",
        "\n",
        "train_data_path = './eyes/dataset/train'\n",
        "test_data_path = './eyes/dataset/test'\n",
        "\n",
        "train_set = train_datagen.flow_from_directory(train_data_path, target_size = (64,64),\n",
        "                                              batch_size = batch_size,\n",
        "                                              color_mode = 'grayscale',\n",
        "                                              class_mode = 'categorical')\n",
        "\n",
        "test_set = test_datagen.flow_from_directory(test_data_path, target_size = (64,64),\n",
        "                                              batch_size = batch_size,\n",
        "                                              color_mode = 'grayscale',\n",
        "                                              class_mode = 'categorical')\n",
        "\n",
        "classes = 2\n",
        "\n",
        "model = Sequential()\n",
        "model.add(Conv2D(32, (3,3), padding = 'same', input_shape = (64,64,1), activation = 'relu'))\n",
        "model.add(MaxPooling2D(pool_size = (2,2)))\n",
        "\n",
        "model.add(Conv2D(64, (3,3), padding = 'same', activation = 'relu'))\n",
        "model.add(MaxPooling2D(pool_size = (2,2)))\n",
        "\n",
        "model.add(Conv2D(128,(3,3), padding='same', activation='relu'))\n",
        "model.add(MaxPooling2D(pool_size=(2,2)))\n",
        "\n",
        "model.add(Flatten())\n",
        "\n",
        "model.add(Dense(64, activation = 'relu'))\n",
        "\n",
        "model.add(Dense(classes, activation = 'softmax'))\n",
        "\n",
        "print(model.summary())\n",
        "\n",
        "model.compile(loss = 'categorical_crossentropy',optimizer = 'adam' , metrics = ['accuracy'])\n",
        "\n",
        "model_path=\"yawn_detection.h5\"\n",
        "\n",
        "checkpoint = ModelCheckpoint(model_path, monitor='val_accuracy', verbose=1,\n",
        "                              save_best_only=True, mode='max')\n",
        "\n",
        "callbacks_list = [checkpoint]\n",
        "\n",
        "num_epochs = 20\n",
        "training_steps=train_set.n//train_set.batch_size\n",
        "validation_steps =test_set.n//test_set.batch_size\n",
        "\n",
        "history = model.fit_generator(train_set, epochs=num_epochs, steps_per_epoch=training_steps,validation_data=test_set,\n",
        "                    validation_steps=validation_steps, callbacks = callbacks_list)"
      ]
    },
    {
      "cell_type": "code",
      "execution_count": null,
      "metadata": {},
      "outputs": [
        {
          "name": "stdout",
          "output_type": "stream",
          "text": [
            "1/1 [==============================] - 0s 325ms/step\n",
            "눈을 감은 상태입니다.\n"
          ]
        }
      ],
      "source": [
        "from keras.preprocessing import image\n",
        "import numpy as np\n",
        "\n",
        "# 이미지 경로\n",
        "image_path = './closed.PNG'\n",
        "\n",
        "# 이미지 불러오기\n",
        "img = image.load_img(image_path, target_size=(64, 64), color_mode='grayscale')\n",
        "\n",
        "# 이미지를 모델에 입력 가능한 형태로 변환\n",
        "img_array = image.img_to_array(img)\n",
        "img_array = np.expand_dims(img_array, axis=0)\n",
        "img_array /= 255.  # 모델 훈련 시 rescale 값과 동일하게 이미지 정규화\n",
        "\n",
        "# 모델 예측\n",
        "prediction = model.predict(img_array)\n",
        "\n",
        "# 예측 결과 출력\n",
        "if prediction[0][0] > prediction[0][1]:\n",
        "    print(\"눈을 감은 상태입니다.\")\n",
        "else:\n",
        "    print(\"눈을 떴습니다.\")\n"
      ]
    }
  ],
  "metadata": {
    "colab": {
      "provenance": []
    },
    "kernelspec": {
      "display_name": "Python 3",
      "name": "python3"
    },
    "language_info": {
      "codemirror_mode": {
        "name": "ipython",
        "version": 3
      },
      "file_extension": ".py",
      "mimetype": "text/x-python",
      "name": "python",
      "nbconvert_exporter": "python",
      "pygments_lexer": "ipython3",
      "version": "3.9.2"
    }
  },
  "nbformat": 4,
  "nbformat_minor": 0
}
