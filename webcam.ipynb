{
  "cells": [
    {
      "cell_type": "code",
      "execution_count": 6,
      "metadata": {
        "id": "Zwuc0uuwocdT"
      },
      "outputs": [],
      "source": [
        "import cv2\n",
        "import numpy as np\n",
        "import matplotlib.pyplot as plt\n",
        "import time\n",
        "import datetime"
      ]
    },
    {
      "cell_type": "code",
      "execution_count": 7,
      "metadata": {
        "id": "UC3R0HQ8ocdV"
      },
      "outputs": [],
      "source": [
        "# 기기의 웹캠 불러오기\n",
        "stream = cv2.VideoCapture(0)"
      ]
    },
    {
      "cell_type": "code",
      "execution_count": 8,
      "metadata": {
        "id": "SQZazKosocdW"
      },
      "outputs": [],
      "source": [
        "while(stream.isOpened()):\n",
        "    ret, frame = stream.read()\n",
        "\n",
        "    if ret:\n",
        "        now = datetime.datetime.now()\n",
        "\n",
        "        # 좌우반전\n",
        "        flip_frame = cv2.flip(frame,1)\n",
        "\n",
        "        # 주어진 프레임을 2배로 확대\n",
        "        # resize_frame = cv2.resize(text_frame ,None, fx=2, fy=2, interpolation=cv2.INTER_LINEAR)\n",
        "        original_frame = cv2.putText(flip_frame, str(now), (10,30), cv2.FONT_HERSHEY_SIMPLEX, 1, (0,255,255), 1, cv2.LINE_AA)\n",
        "        resized_frame = cv2.resize(text_frame , dsize = (1920,1280), interpolation=cv2.INTER_LINEAR)\n",
        "\n",
        "        cv2.imshow('cam', resize_frame)\n",
        "\n",
        "        if cv2.waitKey(1) & 0xFF == ord('q'):\n",
        "            break\n",
        "    else:\n",
        "        break\n",
        "\n",
        "stream.release()\n",
        "\n",
        "# 창 닫기\n",
        "cv2.destroyAllWindows()"
      ]
    }
  ],
  "metadata": {
    "kernelspec": {
      "display_name": "Python 3",
      "language": "python",
      "name": "python3"
    },
    "language_info": {
      "codemirror_mode": {
        "name": "ipython",
        "version": 3
      },
      "file_extension": ".py",
      "mimetype": "text/x-python",
      "name": "python",
      "nbconvert_exporter": "python",
      "pygments_lexer": "ipython3",
      "version": "3.8.5"
    },
    "colab": {
      "provenance": []
    }
  },
  "nbformat": 4,
  "nbformat_minor": 0
}